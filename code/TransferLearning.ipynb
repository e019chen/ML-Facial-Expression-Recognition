{
  "cells": [
    {
      "cell_type": "code",
      "execution_count": 1,
      "metadata": {
        "id": "slRWx_uJK8ov"
      },
      "outputs": [
        {
          "name": "stderr",
          "output_type": "stream",
          "text": [
            "2024-04-21 03:14:50.553681: I tensorflow/core/util/port.cc:110] oneDNN custom operations are on. You may see slightly different numerical results due to floating-point round-off errors from different computation orders. To turn them off, set the environment variable `TF_ENABLE_ONEDNN_OPTS=0`.\n",
            "2024-04-21 03:14:50.628430: I tensorflow/core/platform/cpu_feature_guard.cc:182] This TensorFlow binary is optimized to use available CPU instructions in performance-critical operations.\n",
            "To enable the following instructions: AVX2 AVX512F AVX512_VNNI FMA, in other operations, rebuild TensorFlow with the appropriate compiler flags.\n",
            "2024-04-21 03:14:51.973647: W tensorflow/compiler/tf2tensorrt/utils/py_utils.cc:38] TF-TRT Warning: Could not find TensorRT\n",
            "WARNING:root:Limited tf.compat.v2.summary API due to missing TensorBoard installation.\n",
            "WARNING:root:Limited tf.compat.v2.summary API due to missing TensorBoard installation.\n",
            "WARNING:root:Limited tf.compat.v2.summary API due to missing TensorBoard installation.\n",
            "WARNING:root:Limited tf.summary API due to missing TensorBoard installation.\n",
            "WARNING:root:Limited tf.compat.v2.summary API due to missing TensorBoard installation.\n",
            "WARNING:root:Limited tf.compat.v2.summary API due to missing TensorBoard installation.\n",
            "WARNING:root:Limited tf.compat.v2.summary API due to missing TensorBoard installation.\n"
          ]
        }
      ],
      "source": [
        "from tensorflow.keras.callbacks import ModelCheckpoint, EarlyStopping\n",
        "from tensorflow.keras.utils import to_categorical\n",
        "from tensorflow.keras.preprocessing.image import img_to_array, load_img\n",
        "from tensorflow.keras.models import Model\n",
        "from tensorflow.keras.layers import Dense, Input, Conv2D, Reshape, Dropout, Flatten, MaxPooling2D, GlobalAveragePooling2D, BatchNormalization\n",
        "import os\n",
        "import pandas as pd\n",
        "import numpy as np\n",
        "from tensorflow.keras.optimizers import Adam\n",
        "from tensorflow.keras.applications import ResNet50\n",
        "from tqdm.notebook import tqdm\n",
        "from sklearn.preprocessing import LabelEncoder\n",
        "from tensorflow.keras.preprocessing.image import ImageDataGenerator\n",
        "from tensorflow.keras.utils import plot_model\n",
        "import matplotlib.pyplot as plt\n",
        "from keras.regularizers import l2\n",
        "from keras.callbacks import EarlyStopping\n",
        "from tensorflow.keras import metrics\n",
        "import tensorflow"
      ]
    },
    {
      "cell_type": "code",
      "execution_count": 2,
      "metadata": {
        "id": "6-ZAFGd-No3n"
      },
      "outputs": [],
      "source": [
        "trainDir = '/home/hice1/ychen3606/scratch/mlproject/facial_expression_dataset_splited/train'\n",
        "validDir = '/home/hice1/ychen3606/scratch/mlproject/facial_expression_dataset_splited/validate'\n",
        "testDir = '/home/hice1/ychen3606/scratch/mlproject/facial_expression_dataset_splited/test'"
      ]
    },
    {
      "cell_type": "code",
      "execution_count": 3,
      "metadata": {
        "id": "H1wAQZcnN5mN"
      },
      "outputs": [],
      "source": [
        "def createDF(dir):\n",
        "    images = []\n",
        "    labels = []\n",
        "    for label in os.listdir(dir):\n",
        "        label_path = os.path.join(dir, label)\n",
        "        if os.path.isdir(label_path):\n",
        "            for image in os.listdir(label_path):\n",
        "                image_path = os.path.join(label_path, image)\n",
        "                if os.path.isfile(image_path):\n",
        "                    images.append(image_path)\n",
        "                    labels.append(label)\n",
        "    return images, labels"
      ]
    },
    {
      "cell_type": "code",
      "execution_count": 4,
      "metadata": {
        "colab": {
          "base_uri": "https://localhost:8080/"
        },
        "id": "M1ovsJ0DPwkK",
        "outputId": "f9f2dcdb-5438-4607-cf80-f3a0ce9a7857"
      },
      "outputs": [],
      "source": [
        "trainDF = pd.DataFrame()\n",
        "trainDF['image'], trainDF['label'] = createDF(trainDir)"
      ]
    },
    {
      "cell_type": "code",
      "execution_count": 5,
      "metadata": {
        "colab": {
          "base_uri": "https://localhost:8080/"
        },
        "id": "8CLJnuq0XNJh",
        "outputId": "059f1660-5b65-40fd-9a48-27ea743d7dd2"
      },
      "outputs": [],
      "source": [
        "validDF = pd.DataFrame()\n",
        "validDF['image'], validDF['label'] = createDF(validDir)"
      ]
    },
    {
      "cell_type": "code",
      "execution_count": 6,
      "metadata": {
        "colab": {
          "base_uri": "https://localhost:8080/"
        },
        "id": "wx0NnKEZXvyl",
        "outputId": "89e36c87-6015-4b7e-f874-1c9cb4518283"
      },
      "outputs": [],
      "source": [
        "testDF = pd.DataFrame()\n",
        "testDF['image'], testDF['label'] = createDF(testDir)"
      ]
    },
    {
      "cell_type": "code",
      "execution_count": 7,
      "metadata": {
        "id": "f12bfxEVYU_q"
      },
      "outputs": [],
      "source": [
        "def extractFeatures(images):\n",
        "  features = []\n",
        "  for image in tqdm(images):\n",
        "    img = load_img(image, color_mode='grayscale')\n",
        "    img = img_to_array(img)\n",
        "    features.append(img)\n",
        "  features = np.array(features)\n",
        "  features = features.reshape(len(features), 48, 48, 1)\n",
        "  return features"
      ]
    },
    {
      "cell_type": "code",
      "execution_count": 8,
      "metadata": {
        "colab": {
          "base_uri": "https://localhost:8080/",
          "height": 49,
          "referenced_widgets": [
            "b11ff65f6cbb4bb99efb6de2c19d87b4",
            "5294e9f4a156403c8f47d20dcbcce557",
            "37e88acfec99474d90ffe288f2c321db",
            "e434202b2fc44937899761c0fdcc6d32",
            "57b2f5d7b362430e878b57f0c78c5089",
            "01c422aaefc84d7683378bb592b5f206",
            "3c8a9e19eac442208ebf317a32df6a5e",
            "bddac2bdfc0e4ea0826bf6eec9da75c1",
            "bfca8b86f5284280bb4b6d0ecfefafd3",
            "0baa964c378f44ecb016d279cf687ff8",
            "246558ae0ce5404e95677a27abc9d373"
          ]
        },
        "id": "Y3z5uEKVZDki",
        "outputId": "a0c55842-41eb-4bc6-9e04-c0062a3079b1"
      },
      "outputs": [
        {
          "data": {
            "application/vnd.jupyter.widget-view+json": {
              "model_id": "5b4ab469f7ec4c9fb767a429725bf524",
              "version_major": 2,
              "version_minor": 0
            },
            "text/plain": [
              "  0%|          | 0/24502 [00:00<?, ?it/s]"
            ]
          },
          "metadata": {},
          "output_type": "display_data"
        }
      ],
      "source": [
        "trainFeatures = extractFeatures(trainDF['image'])"
      ]
    },
    {
      "cell_type": "code",
      "execution_count": 9,
      "metadata": {
        "colab": {
          "base_uri": "https://localhost:8080/",
          "height": 49,
          "referenced_widgets": [
            "6ac54986258a4ae3882468a1335fef2e",
            "371a842e8315480aae76d056ec15bf64",
            "827e958e915948fe886d8c956f47c84e",
            "958b4463d5da4a96ac9a95e50ea8a80a",
            "06da601eecc14547bbf3db1126e80acc",
            "3dc91c4ec03f4988a9bb061b3f2a3800",
            "4a126a3f248d409c9f6056a82cd10211",
            "ee5cf23e29aa4ca882ecf7b378667ec5",
            "88142d8837f94488816633bd82a7052e",
            "dcac7a6b60124d7da31559c3fcbd0228",
            "3fa24e3e60f34a74911cc6a1faedd4e7"
          ]
        },
        "id": "D07aI9Q7b4Iy",
        "outputId": "55f88966-16bc-425b-ab66-e5afd3f0b6d9"
      },
      "outputs": [
        {
          "data": {
            "application/vnd.jupyter.widget-view+json": {
              "model_id": "4f37b09a24d24ffc9879ad282c0dda63",
              "version_major": 2,
              "version_minor": 0
            },
            "text/plain": [
              "  0%|          | 0/4319 [00:00<?, ?it/s]"
            ]
          },
          "metadata": {},
          "output_type": "display_data"
        }
      ],
      "source": [
        "validFeatures = extractFeatures(validDF['image'])"
      ]
    },
    {
      "cell_type": "code",
      "execution_count": 10,
      "metadata": {
        "colab": {
          "base_uri": "https://localhost:8080/",
          "height": 49,
          "referenced_widgets": [
            "b0d9182bb5484e418ba3d1474e269248",
            "37fd1c7fcef1494286c7b3e68268b67a",
            "216b77edafdc4d48a452923fa7262af9",
            "52394e0796d54688a68d5acbeafeb966",
            "ff0341198d1d4750b2ccaec22bed4ae7",
            "2321bd9c6540410ca498a934b1d9f844",
            "12ebcb4cc3e04b29881bee587f113f66",
            "ad6fb5abe305456592b4af461d254953",
            "c49d46383a4e47b5af20bfacb60235a8",
            "d60c48f4bdec44fcb0cb067c3736e528",
            "02bcd0f9c3e04ae3950fea11e0a4621c"
          ]
        },
        "id": "ZdrgVnWhb55W",
        "outputId": "19c89951-121b-4778-88ea-1ac8845c0ea6"
      },
      "outputs": [
        {
          "data": {
            "application/vnd.jupyter.widget-view+json": {
              "model_id": "3789f481baad4138ba926f446c9c24bd",
              "version_major": 2,
              "version_minor": 0
            },
            "text/plain": [
              "  0%|          | 0/7066 [00:00<?, ?it/s]"
            ]
          },
          "metadata": {},
          "output_type": "display_data"
        }
      ],
      "source": [
        "testFeatures = extractFeatures(testDF['image'])"
      ]
    },
    {
      "cell_type": "code",
      "execution_count": 11,
      "metadata": {
        "id": "a9F_iC73hr3s"
      },
      "outputs": [],
      "source": [
        "x_train = trainFeatures/255.0\n",
        "x_valid = validFeatures/255.0\n",
        "x_test = testFeatures/255.0"
      ]
    },
    {
      "cell_type": "code",
      "execution_count": 12,
      "metadata": {
        "colab": {
          "base_uri": "https://localhost:8080/",
          "height": 75
        },
        "id": "2epr8vkvdFVp",
        "outputId": "e3afdbf6-2d4d-4bac-f6dd-f84412227589"
      },
      "outputs": [
        {
          "data": {
            "text/html": [
              "<style>#sk-container-id-1 {color: black;}#sk-container-id-1 pre{padding: 0;}#sk-container-id-1 div.sk-toggleable {background-color: white;}#sk-container-id-1 label.sk-toggleable__label {cursor: pointer;display: block;width: 100%;margin-bottom: 0;padding: 0.3em;box-sizing: border-box;text-align: center;}#sk-container-id-1 label.sk-toggleable__label-arrow:before {content: \"▸\";float: left;margin-right: 0.25em;color: #696969;}#sk-container-id-1 label.sk-toggleable__label-arrow:hover:before {color: black;}#sk-container-id-1 div.sk-estimator:hover label.sk-toggleable__label-arrow:before {color: black;}#sk-container-id-1 div.sk-toggleable__content {max-height: 0;max-width: 0;overflow: hidden;text-align: left;background-color: #f0f8ff;}#sk-container-id-1 div.sk-toggleable__content pre {margin: 0.2em;color: black;border-radius: 0.25em;background-color: #f0f8ff;}#sk-container-id-1 input.sk-toggleable__control:checked~div.sk-toggleable__content {max-height: 200px;max-width: 100%;overflow: auto;}#sk-container-id-1 input.sk-toggleable__control:checked~label.sk-toggleable__label-arrow:before {content: \"▾\";}#sk-container-id-1 div.sk-estimator input.sk-toggleable__control:checked~label.sk-toggleable__label {background-color: #d4ebff;}#sk-container-id-1 div.sk-label input.sk-toggleable__control:checked~label.sk-toggleable__label {background-color: #d4ebff;}#sk-container-id-1 input.sk-hidden--visually {border: 0;clip: rect(1px 1px 1px 1px);clip: rect(1px, 1px, 1px, 1px);height: 1px;margin: -1px;overflow: hidden;padding: 0;position: absolute;width: 1px;}#sk-container-id-1 div.sk-estimator {font-family: monospace;background-color: #f0f8ff;border: 1px dotted black;border-radius: 0.25em;box-sizing: border-box;margin-bottom: 0.5em;}#sk-container-id-1 div.sk-estimator:hover {background-color: #d4ebff;}#sk-container-id-1 div.sk-parallel-item::after {content: \"\";width: 100%;border-bottom: 1px solid gray;flex-grow: 1;}#sk-container-id-1 div.sk-label:hover label.sk-toggleable__label {background-color: #d4ebff;}#sk-container-id-1 div.sk-serial::before {content: \"\";position: absolute;border-left: 1px solid gray;box-sizing: border-box;top: 0;bottom: 0;left: 50%;z-index: 0;}#sk-container-id-1 div.sk-serial {display: flex;flex-direction: column;align-items: center;background-color: white;padding-right: 0.2em;padding-left: 0.2em;position: relative;}#sk-container-id-1 div.sk-item {position: relative;z-index: 1;}#sk-container-id-1 div.sk-parallel {display: flex;align-items: stretch;justify-content: center;background-color: white;position: relative;}#sk-container-id-1 div.sk-item::before, #sk-container-id-1 div.sk-parallel-item::before {content: \"\";position: absolute;border-left: 1px solid gray;box-sizing: border-box;top: 0;bottom: 0;left: 50%;z-index: -1;}#sk-container-id-1 div.sk-parallel-item {display: flex;flex-direction: column;z-index: 1;position: relative;background-color: white;}#sk-container-id-1 div.sk-parallel-item:first-child::after {align-self: flex-end;width: 50%;}#sk-container-id-1 div.sk-parallel-item:last-child::after {align-self: flex-start;width: 50%;}#sk-container-id-1 div.sk-parallel-item:only-child::after {width: 0;}#sk-container-id-1 div.sk-dashed-wrapped {border: 1px dashed gray;margin: 0 0.4em 0.5em 0.4em;box-sizing: border-box;padding-bottom: 0.4em;background-color: white;}#sk-container-id-1 div.sk-label label {font-family: monospace;font-weight: bold;display: inline-block;line-height: 1.2em;}#sk-container-id-1 div.sk-label-container {text-align: center;}#sk-container-id-1 div.sk-container {/* jupyter's `normalize.less` sets `[hidden] { display: none; }` but bootstrap.min.css set `[hidden] { display: none !important; }` so we also need the `!important` here to be able to override the default hidden behavior on the sphinx rendered scikit-learn.org. See: https://github.com/scikit-learn/scikit-learn/issues/21755 */display: inline-block !important;position: relative;}#sk-container-id-1 div.sk-text-repr-fallback {display: none;}</style><div id=\"sk-container-id-1\" class=\"sk-top-container\"><div class=\"sk-text-repr-fallback\"><pre>LabelEncoder()</pre><b>In a Jupyter environment, please rerun this cell to show the HTML representation or trust the notebook. <br />On GitHub, the HTML representation is unable to render, please try loading this page with nbviewer.org.</b></div><div class=\"sk-container\" hidden><div class=\"sk-item\"><div class=\"sk-estimator sk-toggleable\"><input class=\"sk-toggleable__control sk-hidden--visually\" id=\"sk-estimator-id-1\" type=\"checkbox\" checked><label for=\"sk-estimator-id-1\" class=\"sk-toggleable__label sk-toggleable__label-arrow\">LabelEncoder</label><div class=\"sk-toggleable__content\"><pre>LabelEncoder()</pre></div></div></div></div></div>"
            ],
            "text/plain": [
              "LabelEncoder()"
            ]
          },
          "execution_count": 12,
          "metadata": {},
          "output_type": "execute_result"
        }
      ],
      "source": [
        "labelEncoder = LabelEncoder()\n",
        "labelEncoder.fit(trainDF['label'])"
      ]
    },
    {
      "cell_type": "code",
      "execution_count": 13,
      "metadata": {
        "id": "zy05hNawdhrB"
      },
      "outputs": [],
      "source": [
        "y_train = labelEncoder.transform(trainDF['label'])\n",
        "y_valid = labelEncoder.transform(validDF['label'])\n",
        "y_test = labelEncoder.transform(testDF['label'])"
      ]
    },
    {
      "cell_type": "code",
      "execution_count": 14,
      "metadata": {
        "id": "85wAozCyfQun"
      },
      "outputs": [],
      "source": [
        "y_train = to_categorical(y_train, num_classes = 7)\n",
        "y_valid = to_categorical(y_valid, num_classes = 7)\n",
        "y_test = to_categorical(y_test, num_classes = 7)"
      ]
    },
    {
      "cell_type": "code",
      "execution_count": 15,
      "metadata": {
        "id": "JUjqyL7KQzLb"
      },
      "outputs": [],
      "source": [
        "#Note: maybe try to freeze some layers for transfer learning"
      ]
    },
    {
      "cell_type": "code",
      "execution_count": 16,
      "metadata": {},
      "outputs": [],
      "source": [
        "import h5py"
      ]
    },
    {
      "cell_type": "code",
      "execution_count": 17,
      "metadata": {},
      "outputs": [],
      "source": [
        "datagen = ImageDataGenerator(\n",
        "    rotation_range=20,\n",
        "    width_shift_range=0.2,\n",
        "    height_shift_range=0.2,\n",
        "    shear_range=0.2,\n",
        "    zoom_range=0.2,\n",
        "    horizontal_flip=True,\n",
        "    fill_mode='nearest'\n",
        ")"
      ]
    },
    {
      "cell_type": "code",
      "execution_count": 18,
      "metadata": {
        "id": "LbZRFXJylsbL"
      },
      "outputs": [
        {
          "name": "stderr",
          "output_type": "stream",
          "text": [
            "2024-04-21 03:15:17.348815: I tensorflow/core/common_runtime/gpu/gpu_device.cc:1635] Created device /job:localhost/replica:0/task:0/device:GPU:0 with 31083 MB memory:  -> device: 0, name: Tesla V100-PCIE-32GB, pci bus id: 0000:af:00.0, compute capability: 7.0\n"
          ]
        }
      ],
      "source": [
        "base_model = ResNet50(weights='imagenet', include_top=False, input_shape=(48, 48, 3))\n",
        "\n",
        "input_tensor = Input(shape=(48, 48, 1))\n",
        "x = Conv2D(3, (3, 3), padding='same')(input_tensor)\n",
        "x = Reshape((48, 48, 3))(x)\n",
        "x = base_model(x)\n",
        "x = GlobalAveragePooling2D()(x)\n",
        "x = BatchNormalization()(x)  # Batch Normalization after feature extraction\n",
        "x = Dense(256, activation='relu', kernel_regularizer=l2(0.01))(x)  # L2 Regularization\n",
        "x = Dropout(0.5)(x)  # Dropout to prevent co-adaptation of neurons\n",
        "predictions = Dense(7, activation='softmax')(x)\n",
        "model = Model(inputs=input_tensor, outputs=predictions)\n"
      ]
    },
    {
      "cell_type": "code",
      "execution_count": 19,
      "metadata": {},
      "outputs": [],
      "source": [
        "class F1Score(tensorflow.keras.metrics.Metric):\n",
        "    def __init__(self, name='f1_score', **kwargs):\n",
        "        super(F1Score, self).__init__(name=name, **kwargs)\n",
        "        self.precision = metrics.Precision()\n",
        "        self.recall = metrics.Recall()\n",
        "\n",
        "    def update_state(self, y_true, y_pred, sample_weight=None):\n",
        "        self.precision.update_state(y_true, y_pred, sample_weight)\n",
        "        self.recall.update_state(y_true, y_pred, sample_weight)\n",
        "\n",
        "    def result(self):\n",
        "        p = self.precision.result()\n",
        "        r = self.recall.result()\n",
        "        return 2 * ((p * r) / (p + r + tensorflow.keras.backend.epsilon()))\n",
        "\n",
        "    def reset_states(self):\n",
        "        self.precision.reset_states()\n",
        "        self.recall.reset_states()"
      ]
    },
    {
      "cell_type": "code",
      "execution_count": 20,
      "metadata": {
        "id": "oo_GfgG6Pjif"
      },
      "outputs": [],
      "source": [
        "model.compile(optimizer=Adam(learning_rate=0.0001), loss='categorical_crossentropy', metrics=['accuracy', \n",
        "                       metrics.Precision(name='precision'),\n",
        "                       metrics.Recall(name='recall'),\n",
        "                       # tfa.metrics.F1Score(num_classes=7, average='weighted'),\n",
        "                       metrics.AUC(name='AUCPR', curve='PR', multi_label=False),\n",
        "                       metrics.AUC(name='AUCROC', curve='ROC',multi_label=False),\n",
        "                       F1Score()])"
      ]
    },
    {
      "cell_type": "code",
      "execution_count": 21,
      "metadata": {
        "id": "yGYKOUQUQxSm"
      },
      "outputs": [
        {
          "name": "stdout",
          "output_type": "stream",
          "text": [
            "You must install pydot (`pip install pydot`) and install graphviz (see instructions at https://graphviz.gitlab.io/download/) for plot_model to work.\n"
          ]
        }
      ],
      "source": [
        "plot_model(model, to_file='model_plot.png', show_shapes=True, show_layer_names=True)"
      ]
    },
    {
      "cell_type": "code",
      "execution_count": 22,
      "metadata": {
        "id": "fXvSVKMtUtY_"
      },
      "outputs": [
        {
          "name": "stdout",
          "output_type": "stream",
          "text": [
            "Model: \"model\"\n",
            "_________________________________________________________________\n",
            " Layer (type)                Output Shape              Param #   \n",
            "=================================================================\n",
            " input_2 (InputLayer)        [(None, 48, 48, 1)]       0         \n",
            "                                                                 \n",
            " conv2d (Conv2D)             (None, 48, 48, 3)         30        \n",
            "                                                                 \n",
            " reshape (Reshape)           (None, 48, 48, 3)         0         \n",
            "                                                                 \n",
            " resnet50 (Functional)       (None, 2, 2, 2048)        23587712  \n",
            "                                                                 \n",
            " global_average_pooling2d (G  (None, 2048)             0         \n",
            " lobalAveragePooling2D)                                          \n",
            "                                                                 \n",
            " batch_normalization (BatchN  (None, 2048)             8192      \n",
            " ormalization)                                                   \n",
            "                                                                 \n",
            " dense (Dense)               (None, 256)               524544    \n",
            "                                                                 \n",
            " dropout (Dropout)           (None, 256)               0         \n",
            "                                                                 \n",
            " dense_1 (Dense)             (None, 7)                 1799      \n",
            "                                                                 \n",
            "=================================================================\n",
            "Total params: 24,122,277\n",
            "Trainable params: 24,065,061\n",
            "Non-trainable params: 57,216\n",
            "_________________________________________________________________\n"
          ]
        }
      ],
      "source": [
        "model.summary()"
      ]
    },
    {
      "cell_type": "code",
      "execution_count": 23,
      "metadata": {
        "id": "GNDALTdFa4xz"
      },
      "outputs": [],
      "source": [
        "early_stopping = EarlyStopping(monitor='val_loss',\n",
        "                               min_delta=0.002,\n",
        "                               patience=3,\n",
        "                               mode='min',\n",
        "                               restore_best_weights=True)"
      ]
    },
    {
      "cell_type": "code",
      "execution_count": 24,
      "metadata": {
        "id": "nY4tKnQ7bIUq"
      },
      "outputs": [
        {
          "name": "stdout",
          "output_type": "stream",
          "text": [
            "Epoch 1/15\n"
          ]
        },
        {
          "name": "stderr",
          "output_type": "stream",
          "text": [
            "2024-04-21 03:15:21.593058: I tensorflow/core/common_runtime/executor.cc:1197] [/device:CPU:0] (DEBUG INFO) Executor start aborting (this does not indicate an error and you can ignore this message): INVALID_ARGUMENT: You must feed a value for placeholder tensor 'Placeholder/_0' with dtype int32\n",
            "\t [[{{node Placeholder/_0}}]]\n",
            "2024-04-21 03:15:38.375032: I tensorflow/compiler/xla/stream_executor/cuda/cuda_dnn.cc:424] Loaded cuDNN version 8600\n",
            "2024-04-21 03:15:38.952044: I tensorflow/compiler/xla/service/service.cc:169] XLA service 0x2aac10030510 initialized for platform CUDA (this does not guarantee that XLA will be used). Devices:\n",
            "2024-04-21 03:15:38.952082: I tensorflow/compiler/xla/service/service.cc:177]   StreamExecutor device (0): Tesla V100-PCIE-32GB, Compute Capability 7.0\n",
            "2024-04-21 03:15:38.959481: I tensorflow/compiler/mlir/tensorflow/utils/dump_mlir_util.cc:269] disabling MLIR crash reproducer, set env var `MLIR_CRASH_REPRODUCER_DIRECTORY` to enable.\n",
            "2024-04-21 03:15:39.188872: I ./tensorflow/compiler/jit/device_compiler.h:180] Compiled cluster using XLA!  This line is logged at most once for the lifetime of the process.\n"
          ]
        },
        {
          "name": "stdout",
          "output_type": "stream",
          "text": [
            "764/765 [============================>.] - ETA: 0s - loss: 6.1551 - accuracy: 0.2722 - precision: 0.3335 - recall: 0.1247 - AUCPR: 0.2452 - AUCROC: 0.6578 - f1_score: 0.1815"
          ]
        },
        {
          "name": "stderr",
          "output_type": "stream",
          "text": [
            "/home/hice1/ychen3606/scratch/pace-env/lib/python3.9/site-packages/keras/engine/training.py:2448: UserWarning: Metric F1Score implements a `reset_states()` method; rename it to `reset_state()` (without the final \"s\"). The name `reset_states()` has been deprecated to improve API consistency.\n",
            "  m.reset_state()\n"
          ]
        },
        {
          "name": "stdout",
          "output_type": "stream",
          "text": [
            "765/765 [==============================] - 77s 41ms/step - loss: 6.1540 - accuracy: 0.2723 - precision: 0.3338 - recall: 0.1247 - AUCPR: 0.2453 - AUCROC: 0.6579 - f1_score: 0.1816 - val_loss: 5.7184 - val_accuracy: 0.1873 - val_precision: 0.2059 - val_recall: 0.0194 - val_AUCPR: 0.1796 - val_AUCROC: 0.6039 - val_f1_score: 0.0355\n",
            "Epoch 2/15\n",
            "765/765 [==============================] - 29s 38ms/step - loss: 4.6741 - accuracy: 0.3716 - precision: 0.6054 - recall: 0.1573 - AUCPR: 0.3837 - AUCROC: 0.7561 - f1_score: 0.2497 - val_loss: 3.9211 - val_accuracy: 0.4730 - val_precision: 0.7007 - val_recall: 0.2721 - val_AUCPR: 0.5300 - val_AUCROC: 0.8344 - val_f1_score: 0.3919\n",
            "Epoch 3/15\n",
            "765/765 [==============================] - 29s 38ms/step - loss: 3.6048 - accuracy: 0.4270 - precision: 0.6649 - recall: 0.2088 - AUCPR: 0.4577 - AUCROC: 0.8001 - f1_score: 0.3178 - val_loss: 3.0313 - val_accuracy: 0.4990 - val_precision: 0.6801 - val_recall: 0.3209 - val_AUCPR: 0.5467 - val_AUCROC: 0.8463 - val_f1_score: 0.4361\n",
            "Epoch 4/15\n",
            "765/765 [==============================] - 29s 38ms/step - loss: 2.7734 - accuracy: 0.4642 - precision: 0.6753 - recall: 0.2466 - AUCPR: 0.5014 - AUCROC: 0.8251 - f1_score: 0.3613 - val_loss: 2.4200 - val_accuracy: 0.5115 - val_precision: 0.6958 - val_recall: 0.3468 - val_AUCPR: 0.5507 - val_AUCROC: 0.8510 - val_f1_score: 0.4629\n",
            "Epoch 5/15\n",
            "765/765 [==============================] - 29s 38ms/step - loss: 2.2033 - accuracy: 0.4814 - precision: 0.6874 - recall: 0.2720 - AUCPR: 0.5265 - AUCROC: 0.8370 - f1_score: 0.3898 - val_loss: 1.8481 - val_accuracy: 0.5416 - val_precision: 0.7668 - val_recall: 0.3197 - val_AUCPR: 0.6074 - val_AUCROC: 0.8744 - val_f1_score: 0.4513\n",
            "Epoch 6/15\n",
            "765/765 [==============================] - 29s 38ms/step - loss: 1.8432 - accuracy: 0.4926 - precision: 0.6910 - recall: 0.2848 - AUCPR: 0.5402 - AUCROC: 0.8436 - f1_score: 0.4033 - val_loss: 1.8869 - val_accuracy: 0.5172 - val_precision: 0.6910 - val_recall: 0.2998 - val_AUCPR: 0.5152 - val_AUCROC: 0.8484 - val_f1_score: 0.4182\n",
            "Epoch 7/15\n",
            "765/765 [==============================] - 29s 38ms/step - loss: 1.6125 - accuracy: 0.5060 - precision: 0.7027 - recall: 0.3038 - AUCPR: 0.5592 - AUCROC: 0.8507 - f1_score: 0.4242 - val_loss: 1.4758 - val_accuracy: 0.5216 - val_precision: 0.7295 - val_recall: 0.3279 - val_AUCPR: 0.5935 - val_AUCROC: 0.8668 - val_f1_score: 0.4524\n",
            "Epoch 8/15\n",
            "765/765 [==============================] - 29s 38ms/step - loss: 1.4907 - accuracy: 0.5078 - precision: 0.7097 - recall: 0.3042 - AUCPR: 0.5614 - AUCROC: 0.8529 - f1_score: 0.4259 - val_loss: 1.3508 - val_accuracy: 0.5580 - val_precision: 0.7388 - val_recall: 0.3603 - val_AUCPR: 0.6143 - val_AUCROC: 0.8800 - val_f1_score: 0.4844\n",
            "Epoch 9/15\n",
            "765/765 [==============================] - 29s 38ms/step - loss: 1.3967 - accuracy: 0.5257 - precision: 0.7046 - recall: 0.3237 - AUCPR: 0.5725 - AUCROC: 0.8609 - f1_score: 0.4436 - val_loss: 1.2494 - val_accuracy: 0.5573 - val_precision: 0.7686 - val_recall: 0.3668 - val_AUCPR: 0.6357 - val_AUCROC: 0.8866 - val_f1_score: 0.4966\n",
            "Epoch 10/15\n",
            "765/765 [==============================] - 29s 38ms/step - loss: 1.3471 - accuracy: 0.5309 - precision: 0.7103 - recall: 0.3338 - AUCPR: 0.5813 - AUCROC: 0.8645 - f1_score: 0.4542 - val_loss: 1.3368 - val_accuracy: 0.5527 - val_precision: 0.7304 - val_recall: 0.3783 - val_AUCPR: 0.6276 - val_AUCROC: 0.8802 - val_f1_score: 0.4985\n",
            "Epoch 11/15\n",
            "765/765 [==============================] - 29s 38ms/step - loss: 1.3098 - accuracy: 0.5311 - precision: 0.7161 - recall: 0.3377 - AUCPR: 0.5911 - AUCROC: 0.8665 - f1_score: 0.4590 - val_loss: 1.2245 - val_accuracy: 0.5656 - val_precision: 0.7486 - val_recall: 0.3929 - val_AUCPR: 0.6372 - val_AUCROC: 0.8839 - val_f1_score: 0.5153\n",
            "Epoch 12/15\n",
            "765/765 [==============================] - 29s 38ms/step - loss: 1.2958 - accuracy: 0.5347 - precision: 0.7204 - recall: 0.3392 - AUCPR: 0.5952 - AUCROC: 0.8682 - f1_score: 0.4613 - val_loss: 1.2634 - val_accuracy: 0.5348 - val_precision: 0.7341 - val_recall: 0.3350 - val_AUCPR: 0.6055 - val_AUCROC: 0.8735 - val_f1_score: 0.4601\n",
            "Epoch 13/15\n",
            "765/765 [==============================] - 29s 38ms/step - loss: 1.2804 - accuracy: 0.5354 - precision: 0.7258 - recall: 0.3414 - AUCPR: 0.5984 - AUCROC: 0.8699 - f1_score: 0.4644 - val_loss: 1.2078 - val_accuracy: 0.5612 - val_precision: 0.6964 - val_recall: 0.4212 - val_AUCPR: 0.6401 - val_AUCROC: 0.8863 - val_f1_score: 0.5249\n",
            "Epoch 14/15\n",
            "765/765 [==============================] - 29s 38ms/step - loss: 1.2558 - accuracy: 0.5474 - precision: 0.7337 - recall: 0.3536 - AUCPR: 0.6109 - AUCROC: 0.8744 - f1_score: 0.4772 - val_loss: 1.2229 - val_accuracy: 0.5645 - val_precision: 0.7290 - val_recall: 0.3843 - val_AUCPR: 0.6274 - val_AUCROC: 0.8821 - val_f1_score: 0.5033\n",
            "Epoch 15/15\n",
            "765/765 [==============================] - 29s 38ms/step - loss: 1.2388 - accuracy: 0.5529 - precision: 0.7328 - recall: 0.3664 - AUCPR: 0.6191 - AUCROC: 0.8791 - f1_score: 0.4886 - val_loss: 1.1436 - val_accuracy: 0.5957 - val_precision: 0.7418 - val_recall: 0.4184 - val_AUCPR: 0.6606 - val_AUCROC: 0.8985 - val_f1_score: 0.5350\n"
          ]
        }
      ],
      "source": [
        "# history = model.fit(\n",
        "#     x=x_train,\n",
        "#     y=y_train,\n",
        "#     batch_size=32,\n",
        "#     epochs=15,\n",
        "#     validation_data=(x_valid, y_valid),\n",
        "#     callbacks=[early_stopping]  # Add early stopping here\n",
        "# )\n",
        "\n",
        "history = model.fit(\n",
        "    datagen.flow(x_train, y_train, batch_size=32),  # Use the data generator here\n",
        "    steps_per_epoch=len(x_train) // 32,  # Number of steps per epoch\n",
        "    epochs=15,\n",
        "    validation_data=(x_valid, y_valid),\n",
        "    callbacks=[early_stopping]  # Early stopping callback\n",
        ")\n",
        "\n",
        "model.save('fcr_cnn_mar3_mine_on_orig.h5')"
      ]
    },
    {
      "cell_type": "code",
      "execution_count": 25,
      "metadata": {
        "id": "zt1RkiMMcYOS"
      },
      "outputs": [
        {
          "data": {
            "text/html": [
              "<div>\n",
              "<style scoped>\n",
              "    .dataframe tbody tr th:only-of-type {\n",
              "        vertical-align: middle;\n",
              "    }\n",
              "\n",
              "    .dataframe tbody tr th {\n",
              "        vertical-align: top;\n",
              "    }\n",
              "\n",
              "    .dataframe thead th {\n",
              "        text-align: right;\n",
              "    }\n",
              "</style>\n",
              "<table border=\"1\" class=\"dataframe\">\n",
              "  <thead>\n",
              "    <tr style=\"text-align: right;\">\n",
              "      <th></th>\n",
              "      <th>loss</th>\n",
              "      <th>accuracy</th>\n",
              "      <th>precision</th>\n",
              "      <th>recall</th>\n",
              "      <th>AUCPR</th>\n",
              "      <th>AUCROC</th>\n",
              "      <th>f1_score</th>\n",
              "      <th>val_loss</th>\n",
              "      <th>val_accuracy</th>\n",
              "      <th>val_precision</th>\n",
              "      <th>val_recall</th>\n",
              "      <th>val_AUCPR</th>\n",
              "      <th>val_AUCROC</th>\n",
              "      <th>val_f1_score</th>\n",
              "    </tr>\n",
              "  </thead>\n",
              "  <tbody>\n",
              "    <tr>\n",
              "      <th>0</th>\n",
              "      <td>6.153982</td>\n",
              "      <td>0.272293</td>\n",
              "      <td>0.333771</td>\n",
              "      <td>0.124724</td>\n",
              "      <td>0.245280</td>\n",
              "      <td>0.657863</td>\n",
              "      <td>0.181591</td>\n",
              "      <td>5.718439</td>\n",
              "      <td>0.187312</td>\n",
              "      <td>0.205882</td>\n",
              "      <td>0.019449</td>\n",
              "      <td>0.179573</td>\n",
              "      <td>0.603910</td>\n",
              "      <td>0.035540</td>\n",
              "    </tr>\n",
              "    <tr>\n",
              "      <th>1</th>\n",
              "      <td>4.674096</td>\n",
              "      <td>0.371557</td>\n",
              "      <td>0.605412</td>\n",
              "      <td>0.157254</td>\n",
              "      <td>0.383685</td>\n",
              "      <td>0.756127</td>\n",
              "      <td>0.249659</td>\n",
              "      <td>3.921062</td>\n",
              "      <td>0.473026</td>\n",
              "      <td>0.700656</td>\n",
              "      <td>0.272054</td>\n",
              "      <td>0.530006</td>\n",
              "      <td>0.834449</td>\n",
              "      <td>0.391928</td>\n",
              "    </tr>\n",
              "    <tr>\n",
              "      <th>2</th>\n",
              "      <td>3.604819</td>\n",
              "      <td>0.426972</td>\n",
              "      <td>0.664888</td>\n",
              "      <td>0.208786</td>\n",
              "      <td>0.457725</td>\n",
              "      <td>0.800071</td>\n",
              "      <td>0.317783</td>\n",
              "      <td>3.031272</td>\n",
              "      <td>0.498958</td>\n",
              "      <td>0.680079</td>\n",
              "      <td>0.320908</td>\n",
              "      <td>0.546685</td>\n",
              "      <td>0.846339</td>\n",
              "      <td>0.436055</td>\n",
              "    </tr>\n",
              "    <tr>\n",
              "      <th>3</th>\n",
              "      <td>2.773432</td>\n",
              "      <td>0.464160</td>\n",
              "      <td>0.675283</td>\n",
              "      <td>0.246629</td>\n",
              "      <td>0.501397</td>\n",
              "      <td>0.825084</td>\n",
              "      <td>0.361301</td>\n",
              "      <td>2.419987</td>\n",
              "      <td>0.511461</td>\n",
              "      <td>0.695773</td>\n",
              "      <td>0.346840</td>\n",
              "      <td>0.550738</td>\n",
              "      <td>0.850990</td>\n",
              "      <td>0.462917</td>\n",
              "    </tr>\n",
              "    <tr>\n",
              "      <th>4</th>\n",
              "      <td>2.203267</td>\n",
              "      <td>0.481406</td>\n",
              "      <td>0.687423</td>\n",
              "      <td>0.272047</td>\n",
              "      <td>0.526534</td>\n",
              "      <td>0.837010</td>\n",
              "      <td>0.389823</td>\n",
              "      <td>1.848148</td>\n",
              "      <td>0.541561</td>\n",
              "      <td>0.766796</td>\n",
              "      <td>0.319750</td>\n",
              "      <td>0.607378</td>\n",
              "      <td>0.874411</td>\n",
              "      <td>0.451307</td>\n",
              "    </tr>\n",
              "    <tr>\n",
              "      <th>5</th>\n",
              "      <td>1.843175</td>\n",
              "      <td>0.492644</td>\n",
              "      <td>0.690996</td>\n",
              "      <td>0.284757</td>\n",
              "      <td>0.540171</td>\n",
              "      <td>0.843648</td>\n",
              "      <td>0.403311</td>\n",
              "      <td>1.886930</td>\n",
              "      <td>0.517249</td>\n",
              "      <td>0.691035</td>\n",
              "      <td>0.299838</td>\n",
              "      <td>0.515246</td>\n",
              "      <td>0.848371</td>\n",
              "      <td>0.418214</td>\n",
              "    </tr>\n",
              "    <tr>\n",
              "      <th>6</th>\n",
              "      <td>1.612460</td>\n",
              "      <td>0.506048</td>\n",
              "      <td>0.702685</td>\n",
              "      <td>0.303760</td>\n",
              "      <td>0.559205</td>\n",
              "      <td>0.850715</td>\n",
              "      <td>0.424161</td>\n",
              "      <td>1.475786</td>\n",
              "      <td>0.521649</td>\n",
              "      <td>0.729521</td>\n",
              "      <td>0.327854</td>\n",
              "      <td>0.593482</td>\n",
              "      <td>0.866771</td>\n",
              "      <td>0.452396</td>\n",
              "    </tr>\n",
              "    <tr>\n",
              "      <th>7</th>\n",
              "      <td>1.490684</td>\n",
              "      <td>0.507846</td>\n",
              "      <td>0.709696</td>\n",
              "      <td>0.304209</td>\n",
              "      <td>0.561384</td>\n",
              "      <td>0.852919</td>\n",
              "      <td>0.425870</td>\n",
              "      <td>1.350828</td>\n",
              "      <td>0.558000</td>\n",
              "      <td>0.738841</td>\n",
              "      <td>0.360269</td>\n",
              "      <td>0.614346</td>\n",
              "      <td>0.880045</td>\n",
              "      <td>0.484358</td>\n",
              "    </tr>\n",
              "    <tr>\n",
              "      <th>8</th>\n",
              "      <td>1.396716</td>\n",
              "      <td>0.525746</td>\n",
              "      <td>0.704616</td>\n",
              "      <td>0.323743</td>\n",
              "      <td>0.572465</td>\n",
              "      <td>0.860877</td>\n",
              "      <td>0.443648</td>\n",
              "      <td>1.249365</td>\n",
              "      <td>0.557305</td>\n",
              "      <td>0.768559</td>\n",
              "      <td>0.366752</td>\n",
              "      <td>0.635725</td>\n",
              "      <td>0.886607</td>\n",
              "      <td>0.496552</td>\n",
              "    </tr>\n",
              "    <tr>\n",
              "      <th>9</th>\n",
              "      <td>1.347085</td>\n",
              "      <td>0.530854</td>\n",
              "      <td>0.710348</td>\n",
              "      <td>0.333837</td>\n",
              "      <td>0.581332</td>\n",
              "      <td>0.864519</td>\n",
              "      <td>0.454212</td>\n",
              "      <td>1.336797</td>\n",
              "      <td>0.552674</td>\n",
              "      <td>0.730443</td>\n",
              "      <td>0.378328</td>\n",
              "      <td>0.627606</td>\n",
              "      <td>0.880225</td>\n",
              "      <td>0.498475</td>\n",
              "    </tr>\n",
              "    <tr>\n",
              "      <th>10</th>\n",
              "      <td>1.309798</td>\n",
              "      <td>0.531058</td>\n",
              "      <td>0.716118</td>\n",
              "      <td>0.337720</td>\n",
              "      <td>0.591107</td>\n",
              "      <td>0.866510</td>\n",
              "      <td>0.458984</td>\n",
              "      <td>1.224494</td>\n",
              "      <td>0.565640</td>\n",
              "      <td>0.748566</td>\n",
              "      <td>0.392915</td>\n",
              "      <td>0.637153</td>\n",
              "      <td>0.883855</td>\n",
              "      <td>0.515336</td>\n",
              "    </tr>\n",
              "    <tr>\n",
              "      <th>11</th>\n",
              "      <td>1.295760</td>\n",
              "      <td>0.534736</td>\n",
              "      <td>0.720448</td>\n",
              "      <td>0.339232</td>\n",
              "      <td>0.595244</td>\n",
              "      <td>0.868234</td>\n",
              "      <td>0.461269</td>\n",
              "      <td>1.263361</td>\n",
              "      <td>0.534846</td>\n",
              "      <td>0.734145</td>\n",
              "      <td>0.335031</td>\n",
              "      <td>0.605453</td>\n",
              "      <td>0.873526</td>\n",
              "      <td>0.460095</td>\n",
              "    </tr>\n",
              "    <tr>\n",
              "      <th>12</th>\n",
              "      <td>1.280397</td>\n",
              "      <td>0.535431</td>\n",
              "      <td>0.725827</td>\n",
              "      <td>0.341439</td>\n",
              "      <td>0.598401</td>\n",
              "      <td>0.869950</td>\n",
              "      <td>0.464412</td>\n",
              "      <td>1.207789</td>\n",
              "      <td>0.561241</td>\n",
              "      <td>0.696401</td>\n",
              "      <td>0.421162</td>\n",
              "      <td>0.640144</td>\n",
              "      <td>0.886319</td>\n",
              "      <td>0.524888</td>\n",
              "    </tr>\n",
              "    <tr>\n",
              "      <th>13</th>\n",
              "      <td>1.255811</td>\n",
              "      <td>0.547364</td>\n",
              "      <td>0.733718</td>\n",
              "      <td>0.353576</td>\n",
              "      <td>0.610944</td>\n",
              "      <td>0.874401</td>\n",
              "      <td>0.477194</td>\n",
              "      <td>1.222904</td>\n",
              "      <td>0.564483</td>\n",
              "      <td>0.729029</td>\n",
              "      <td>0.384348</td>\n",
              "      <td>0.627362</td>\n",
              "      <td>0.882087</td>\n",
              "      <td>0.503335</td>\n",
              "    </tr>\n",
              "    <tr>\n",
              "      <th>14</th>\n",
              "      <td>1.238770</td>\n",
              "      <td>0.552881</td>\n",
              "      <td>0.732838</td>\n",
              "      <td>0.366449</td>\n",
              "      <td>0.619115</td>\n",
              "      <td>0.879142</td>\n",
              "      <td>0.488585</td>\n",
              "      <td>1.143615</td>\n",
              "      <td>0.595740</td>\n",
              "      <td>0.741790</td>\n",
              "      <td>0.418384</td>\n",
              "      <td>0.660624</td>\n",
              "      <td>0.898520</td>\n",
              "      <td>0.535011</td>\n",
              "    </tr>\n",
              "  </tbody>\n",
              "</table>\n",
              "</div>"
            ],
            "text/plain": [
              "        loss  accuracy  precision    recall     AUCPR    AUCROC  f1_score  \\\n",
              "0   6.153982  0.272293   0.333771  0.124724  0.245280  0.657863  0.181591   \n",
              "1   4.674096  0.371557   0.605412  0.157254  0.383685  0.756127  0.249659   \n",
              "2   3.604819  0.426972   0.664888  0.208786  0.457725  0.800071  0.317783   \n",
              "3   2.773432  0.464160   0.675283  0.246629  0.501397  0.825084  0.361301   \n",
              "4   2.203267  0.481406   0.687423  0.272047  0.526534  0.837010  0.389823   \n",
              "5   1.843175  0.492644   0.690996  0.284757  0.540171  0.843648  0.403311   \n",
              "6   1.612460  0.506048   0.702685  0.303760  0.559205  0.850715  0.424161   \n",
              "7   1.490684  0.507846   0.709696  0.304209  0.561384  0.852919  0.425870   \n",
              "8   1.396716  0.525746   0.704616  0.323743  0.572465  0.860877  0.443648   \n",
              "9   1.347085  0.530854   0.710348  0.333837  0.581332  0.864519  0.454212   \n",
              "10  1.309798  0.531058   0.716118  0.337720  0.591107  0.866510  0.458984   \n",
              "11  1.295760  0.534736   0.720448  0.339232  0.595244  0.868234  0.461269   \n",
              "12  1.280397  0.535431   0.725827  0.341439  0.598401  0.869950  0.464412   \n",
              "13  1.255811  0.547364   0.733718  0.353576  0.610944  0.874401  0.477194   \n",
              "14  1.238770  0.552881   0.732838  0.366449  0.619115  0.879142  0.488585   \n",
              "\n",
              "    val_loss  val_accuracy  val_precision  val_recall  val_AUCPR  val_AUCROC  \\\n",
              "0   5.718439      0.187312       0.205882    0.019449   0.179573    0.603910   \n",
              "1   3.921062      0.473026       0.700656    0.272054   0.530006    0.834449   \n",
              "2   3.031272      0.498958       0.680079    0.320908   0.546685    0.846339   \n",
              "3   2.419987      0.511461       0.695773    0.346840   0.550738    0.850990   \n",
              "4   1.848148      0.541561       0.766796    0.319750   0.607378    0.874411   \n",
              "5   1.886930      0.517249       0.691035    0.299838   0.515246    0.848371   \n",
              "6   1.475786      0.521649       0.729521    0.327854   0.593482    0.866771   \n",
              "7   1.350828      0.558000       0.738841    0.360269   0.614346    0.880045   \n",
              "8   1.249365      0.557305       0.768559    0.366752   0.635725    0.886607   \n",
              "9   1.336797      0.552674       0.730443    0.378328   0.627606    0.880225   \n",
              "10  1.224494      0.565640       0.748566    0.392915   0.637153    0.883855   \n",
              "11  1.263361      0.534846       0.734145    0.335031   0.605453    0.873526   \n",
              "12  1.207789      0.561241       0.696401    0.421162   0.640144    0.886319   \n",
              "13  1.222904      0.564483       0.729029    0.384348   0.627362    0.882087   \n",
              "14  1.143615      0.595740       0.741790    0.418384   0.660624    0.898520   \n",
              "\n",
              "    val_f1_score  \n",
              "0       0.035540  \n",
              "1       0.391928  \n",
              "2       0.436055  \n",
              "3       0.462917  \n",
              "4       0.451307  \n",
              "5       0.418214  \n",
              "6       0.452396  \n",
              "7       0.484358  \n",
              "8       0.496552  \n",
              "9       0.498475  \n",
              "10      0.515336  \n",
              "11      0.460095  \n",
              "12      0.524888  \n",
              "13      0.503335  \n",
              "14      0.535011  "
            ]
          },
          "execution_count": 25,
          "metadata": {},
          "output_type": "execute_result"
        }
      ],
      "source": [
        "df = pd.DataFrame(model.history.history)\n",
        "df"
      ]
    },
    {
      "cell_type": "code",
      "execution_count": 26,
      "metadata": {
        "id": "gGNlXbi3cZrh"
      },
      "outputs": [
        {
          "data": {
            "image/png": "[encoded data removed]",
            "text/plain": [
              "<Figure size 500x2500 with 7 Axes>"
            ]
          },
          "metadata": {},
          "output_type": "display_data"
        }
      ],
      "source": [
        "# Create a figure with 7 subplots (one for each metric)\n",
        "fig, axs = plt.subplots(7, 1, figsize=(5, 25))  # 7 rows, 1 column\n",
        "\n",
        "# List of metrics to plot\n",
        "metrics = ['loss', 'accuracy', 'precision', 'recall', 'AUCPR', 'AUCROC','f1_score']\n",
        "# take out 'f1_score'\n",
        "\n",
        "for i, metric in enumerate(metrics):\n",
        "    # Plot training metric\n",
        "    axs[i].plot(df.index, df[metric], label=f'Training {metric}', marker='o')\n",
        "\n",
        "    # Plot validation metric\n",
        "    val_metric = f'val_{metric}'\n",
        "    axs[i].plot(df.index, df[val_metric], label=f'Validation {metric}', linestyle='--', marker='x')\n",
        "\n",
        "    axs[i].set_title(f'{metric} over epochs')\n",
        "    axs[i].set_xlabel('Epoch')\n",
        "    axs[i].set_ylabel(metric)\n",
        "    axs[i].legend()\n",
        "\n",
        "# Adjust layout for better fit\n",
        "plt.tight_layout()\n",
        "plt.show()"
      ]
    },
    {
      "cell_type": "code",
      "execution_count": 27,
      "metadata": {
        "id": "XtFfFvudc1aq"
      },
      "outputs": [
        {
          "name": "stdout",
          "output_type": "stream",
          "text": [
            " 19/221 [=>............................] - ETA: 1s - loss: 1.4908 - accuracy: 0.4786 - precision: 0.5753 - recall: 0.2829 - AUCPR: 0.4575 - AUCROC: 0.8189 - f1_score: 0.3793"
          ]
        },
        {
          "name": "stderr",
          "output_type": "stream",
          "text": [
            "/home/hice1/ychen3606/scratch/pace-env/lib/python3.9/site-packages/keras/engine/training.py:2448: UserWarning: Metric F1Score implements a `reset_states()` method; rename it to `reset_state()` (without the final \"s\"). The name `reset_states()` has been deprecated to improve API consistency.\n",
            "  m.reset_state()\n"
          ]
        },
        {
          "name": "stdout",
          "output_type": "stream",
          "text": [
            "221/221 [==============================] - 2s 10ms/step - loss: 1.1430 - accuracy: 0.5971 - precision: 0.7352 - recall: 0.4311 - AUCPR: 0.6628 - AUCROC: 0.8988 - f1_score: 0.5435\n",
            "Test loss: 1.142983078956604\n",
            "Test accuracy: 0.597084641456604\n",
            "Test precision: 0.7352160215377808\n",
            "Test recall: 0.43107840418815613\n",
            "Test AUCPR: 0.6627774834632874\n",
            "Test AUCROC: 0.8988179564476013\n",
            "Test F1 Score: 0.543491780757904\n"
          ]
        }
      ],
      "source": [
        "test_scores = model.evaluate(x_test, y_test)\n",
        "print(\"Test loss:\", test_scores[0])\n",
        "print(\"Test accuracy:\", test_scores[1])\n",
        "print(\"Test precision:\", test_scores[2])\n",
        "print(\"Test recall:\", test_scores[3])\n",
        "print(\"Test AUCPR:\", test_scores[4])\n",
        "print(\"Test AUCROC:\", test_scores[5])\n",
        "print(\"Test F1 Score:\", test_scores[6])"
      ]
    }
  ],
  "metadata": {
    "colab": {
      "provenance": []
    },
    "kernelspec": {
      "display_name": "Python 3",
      "name": "python3"
    },
    "language_info": {
      "codemirror_mode": {
        "name": "ipython",
        "version": 3
      },
      "file_extension": ".py",
      "mimetype": "text/x-python",
      "name": "python",
      "nbconvert_exporter": "python",
      "pygments_lexer": "ipython3",
      "version": "3.9.18"
    },
    "widgets": {
      "application/vnd.jupyter.widget-state+json": {
        "01c422aaefc84d7683378bb592b5f206": {
          "model_module": "@jupyter-widgets/base",
          "model_module_version": "1.2.0",
          "model_name": "LayoutModel",
          "state": {
            "_model_module": "@jupyter-widgets/base",
            "_model_module_version": "1.2.0",
            "_model_name": "LayoutModel",
            "_view_count": null,
            "_view_module": "@jupyter-widgets/base",
            "_view_module_version": "1.2.0",
            "_view_name": "LayoutView",
            "align_content": null,
            "align_items": null,
            "align_self": null,
            "border": null,
            "bottom": null,
            "display": null,
            "flex": null,
            "flex_flow": null,
            "grid_area": null,
            "grid_auto_columns": null,
            "grid_auto_flow": null,
            "grid_auto_rows": null,
            "grid_column": null,
            "grid_gap": null,
            "grid_row": null,
            "grid_template_areas": null,
            "grid_template_columns": null,
            "grid_template_rows": null,
            "height": null,
            "justify_content": null,
            "justify_items": null,
            "left": null,
            "margin": null,
            "max_height": null,
            "max_width": null,
            "min_height": null,
            "min_width": null,
            "object_fit": null,
            "object_position": null,
            "order": null,
            "overflow": null,
            "overflow_x": null,
            "overflow_y": null,
            "padding": null,
            "right": null,
            "top": null,
            "visibility": null,
            "width": null
          }
        },
        "02bcd0f9c3e04ae3950fea11e0a4621c": {
          "model_module": "@jupyter-widgets/controls",
          "model_module_version": "1.5.0",
          "model_name": "DescriptionStyleModel",
          "state": {
            "_model_module": "@jupyter-widgets/controls",
            "_model_module_version": "1.5.0",
            "_model_name": "DescriptionStyleModel",
            "_view_count": null,
            "_view_module": "@jupyter-widgets/base",
            "_view_module_version": "1.2.0",
            "_view_name": "StyleView",
            "description_width": ""
          }
        },
        "06da601eecc14547bbf3db1126e80acc": {
          "model_module": "@jupyter-widgets/base",
          "model_module_version": "1.2.0",
          "model_name": "LayoutModel",
          "state": {
            "_model_module": "@jupyter-widgets/base",
            "_model_module_version": "1.2.0",
            "_model_name": "LayoutModel",
            "_view_count": null,
            "_view_module": "@jupyter-widgets/base",
            "_view_module_version": "1.2.0",
            "_view_name": "LayoutView",
            "align_content": null,
            "align_items": null,
            "align_self": null,
            "border": null,
            "bottom": null,
            "display": null,
            "flex": null,
            "flex_flow": null,
            "grid_area": null,
            "grid_auto_columns": null,
            "grid_auto_flow": null,
            "grid_auto_rows": null,
            "grid_column": null,
            "grid_gap": null,
            "grid_row": null,
            "grid_template_areas": null,
            "grid_template_columns": null,
            "grid_template_rows": null,
            "height": null,
            "justify_content": null,
            "justify_items": null,
            "left": null,
            "margin": null,
            "max_height": null,
            "max_width": null,
            "min_height": null,
            "min_width": null,
            "object_fit": null,
            "object_position": null,
            "order": null,
            "overflow": null,
            "overflow_x": null,
            "overflow_y": null,
            "padding": null,
            "right": null,
            "top": null,
            "visibility": null,
            "width": null
          }
        },
        "0baa964c378f44ecb016d279cf687ff8": {
          "model_module": "@jupyter-widgets/base",
          "model_module_version": "1.2.0",
          "model_name": "LayoutModel",
          "state": {
            "_model_module": "@jupyter-widgets/base",
            "_model_module_version": "1.2.0",
            "_model_name": "LayoutModel",
            "_view_count": null,
            "_view_module": "@jupyter-widgets/base",
            "_view_module_version": "1.2.0",
            "_view_name": "LayoutView",
            "align_content": null,
            "align_items": null,
            "align_self": null,
            "border": null,
            "bottom": null,
            "display": null,
            "flex": null,
            "flex_flow": null,
            "grid_area": null,
            "grid_auto_columns": null,
            "grid_auto_flow": null,
            "grid_auto_rows": null,
            "grid_column": null,
            "grid_gap": null,
            "grid_row": null,
            "grid_template_areas": null,
            "grid_template_columns": null,
            "grid_template_rows": null,
            "height": null,
            "justify_content": null,
            "justify_items": null,
            "left": null,
            "margin": null,
            "max_height": null,
            "max_width": null,
            "min_height": null,
            "min_width": null,
            "object_fit": null,
            "object_position": null,
            "order": null,
            "overflow": null,
            "overflow_x": null,
            "overflow_y": null,
            "padding": null,
            "right": null,
            "top": null,
            "visibility": null,
            "width": null
          }
        },
        "12ebcb4cc3e04b29881bee587f113f66": {
          "model_module": "@jupyter-widgets/controls",
          "model_module_version": "1.5.0",
          "model_name": "DescriptionStyleModel",
          "state": {
            "_model_module": "@jupyter-widgets/controls",
            "_model_module_version": "1.5.0",
            "_model_name": "DescriptionStyleModel",
            "_view_count": null,
            "_view_module": "@jupyter-widgets/base",
            "_view_module_version": "1.2.0",
            "_view_name": "StyleView",
            "description_width": ""
          }
        },
        "216b77edafdc4d48a452923fa7262af9": {
          "model_module": "@jupyter-widgets/controls",
          "model_module_version": "1.5.0",
          "model_name": "FloatProgressModel",
          "state": {
            "_dom_classes": [],
            "_model_module": "@jupyter-widgets/controls",
            "_model_module_version": "1.5.0",
            "_model_name": "FloatProgressModel",
            "_view_count": null,
            "_view_module": "@jupyter-widgets/controls",
            "_view_module_version": "1.5.0",
            "_view_name": "ProgressView",
            "bar_style": "success",
            "description": "",
            "description_tooltip": null,
            "layout": "IPY_MODEL_ad6fb5abe305456592b4af461d254953",
            "max": 7066,
            "min": 0,
            "orientation": "horizontal",
            "style": "IPY_MODEL_c49d46383a4e47b5af20bfacb60235a8",
            "value": 7066
          }
        },
        "2321bd9c6540410ca498a934b1d9f844": {
          "model_module": "@jupyter-widgets/base",
          "model_module_version": "1.2.0",
          "model_name": "LayoutModel",
          "state": {
            "_model_module": "@jupyter-widgets/base",
            "_model_module_version": "1.2.0",
            "_model_name": "LayoutModel",
            "_view_count": null,
            "_view_module": "@jupyter-widgets/base",
            "_view_module_version": "1.2.0",
            "_view_name": "LayoutView",
            "align_content": null,
            "align_items": null,
            "align_self": null,
            "border": null,
            "bottom": null,
            "display": null,
            "flex": null,
            "flex_flow": null,
            "grid_area": null,
            "grid_auto_columns": null,
            "grid_auto_flow": null,
            "grid_auto_rows": null,
            "grid_column": null,
            "grid_gap": null,
            "grid_row": null,
            "grid_template_areas": null,
            "grid_template_columns": null,
            "grid_template_rows": null,
            "height": null,
            "justify_content": null,
            "justify_items": null,
            "left": null,
            "margin": null,
            "max_height": null,
            "max_width": null,
            "min_height": null,
            "min_width": null,
            "object_fit": null,
            "object_position": null,
            "order": null,
            "overflow": null,
            "overflow_x": null,
            "overflow_y": null,
            "padding": null,
            "right": null,
            "top": null,
            "visibility": null,
            "width": null
          }
        },
        "246558ae0ce5404e95677a27abc9d373": {
          "model_module": "@jupyter-widgets/controls",
          "model_module_version": "1.5.0",
          "model_name": "DescriptionStyleModel",
          "state": {
            "_model_module": "@jupyter-widgets/controls",
            "_model_module_version": "1.5.0",
            "_model_name": "DescriptionStyleModel",
            "_view_count": null,
            "_view_module": "@jupyter-widgets/base",
            "_view_module_version": "1.2.0",
            "_view_name": "StyleView",
            "description_width": ""
          }
        },
        "371a842e8315480aae76d056ec15bf64": {
          "model_module": "@jupyter-widgets/controls",
          "model_module_version": "1.5.0",
          "model_name": "HTMLModel",
          "state": {
            "_dom_classes": [],
            "_model_module": "@jupyter-widgets/controls",
            "_model_module_version": "1.5.0",
            "_model_name": "HTMLModel",
            "_view_count": null,
            "_view_module": "@jupyter-widgets/controls",
            "_view_module_version": "1.5.0",
            "_view_name": "HTMLView",
            "description": "",
            "description_tooltip": null,
            "layout": "IPY_MODEL_3dc91c4ec03f4988a9bb061b3f2a3800",
            "placeholder": "​",
            "style": "IPY_MODEL_4a126a3f248d409c9f6056a82cd10211",
            "value": "100%"
          }
        },
        "37e88acfec99474d90ffe288f2c321db": {
          "model_module": "@jupyter-widgets/controls",
          "model_module_version": "1.5.0",
          "model_name": "FloatProgressModel",
          "state": {
            "_dom_classes": [],
            "_model_module": "@jupyter-widgets/controls",
            "_model_module_version": "1.5.0",
            "_model_name": "FloatProgressModel",
            "_view_count": null,
            "_view_module": "@jupyter-widgets/controls",
            "_view_module_version": "1.5.0",
            "_view_name": "ProgressView",
            "bar_style": "success",
            "description": "",
            "description_tooltip": null,
            "layout": "IPY_MODEL_bddac2bdfc0e4ea0826bf6eec9da75c1",
            "max": 24502,
            "min": 0,
            "orientation": "horizontal",
            "style": "IPY_MODEL_bfca8b86f5284280bb4b6d0ecfefafd3",
            "value": 24502
          }
        },
        "37fd1c7fcef1494286c7b3e68268b67a": {
          "model_module": "@jupyter-widgets/controls",
          "model_module_version": "1.5.0",
          "model_name": "HTMLModel",
          "state": {
            "_dom_classes": [],
            "_model_module": "@jupyter-widgets/controls",
            "_model_module_version": "1.5.0",
            "_model_name": "HTMLModel",
            "_view_count": null,
            "_view_module": "@jupyter-widgets/controls",
            "_view_module_version": "1.5.0",
            "_view_name": "HTMLView",
            "description": "",
            "description_tooltip": null,
            "layout": "IPY_MODEL_2321bd9c6540410ca498a934b1d9f844",
            "placeholder": "​",
            "style": "IPY_MODEL_12ebcb4cc3e04b29881bee587f113f66",
            "value": "100%"
          }
        },
        "3c8a9e19eac442208ebf317a32df6a5e": {
          "model_module": "@jupyter-widgets/controls",
          "model_module_version": "1.5.0",
          "model_name": "DescriptionStyleModel",
          "state": {
            "_model_module": "@jupyter-widgets/controls",
            "_model_module_version": "1.5.0",
            "_model_name": "DescriptionStyleModel",
            "_view_count": null,
            "_view_module": "@jupyter-widgets/base",
            "_view_module_version": "1.2.0",
            "_view_name": "StyleView",
            "description_width": ""
          }
        },
        "3dc91c4ec03f4988a9bb061b3f2a3800": {
          "model_module": "@jupyter-widgets/base",
          "model_module_version": "1.2.0",
          "model_name": "LayoutModel",
          "state": {
            "_model_module": "@jupyter-widgets/base",
            "_model_module_version": "1.2.0",
            "_model_name": "LayoutModel",
            "_view_count": null,
            "_view_module": "@jupyter-widgets/base",
            "_view_module_version": "1.2.0",
            "_view_name": "LayoutView",
            "align_content": null,
            "align_items": null,
            "align_self": null,
            "border": null,
            "bottom": null,
            "display": null,
            "flex": null,
            "flex_flow": null,
            "grid_area": null,
            "grid_auto_columns": null,
            "grid_auto_flow": null,
            "grid_auto_rows": null,
            "grid_column": null,
            "grid_gap": null,
            "grid_row": null,
            "grid_template_areas": null,
            "grid_template_columns": null,
            "grid_template_rows": null,
            "height": null,
            "justify_content": null,
            "justify_items": null,
            "left": null,
            "margin": null,
            "max_height": null,
            "max_width": null,
            "min_height": null,
            "min_width": null,
            "object_fit": null,
            "object_position": null,
            "order": null,
            "overflow": null,
            "overflow_x": null,
            "overflow_y": null,
            "padding": null,
            "right": null,
            "top": null,
            "visibility": null,
            "width": null
          }
        },
        "3fa24e3e60f34a74911cc6a1faedd4e7": {
          "model_module": "@jupyter-widgets/controls",
          "model_module_version": "1.5.0",
          "model_name": "DescriptionStyleModel",
          "state": {
            "_model_module": "@jupyter-widgets/controls",
            "_model_module_version": "1.5.0",
            "_model_name": "DescriptionStyleModel",
            "_view_count": null,
            "_view_module": "@jupyter-widgets/base",
            "_view_module_version": "1.2.0",
            "_view_name": "StyleView",
            "description_width": ""
          }
        },
        "4a126a3f248d409c9f6056a82cd10211": {
          "model_module": "@jupyter-widgets/controls",
          "model_module_version": "1.5.0",
          "model_name": "DescriptionStyleModel",
          "state": {
            "_model_module": "@jupyter-widgets/controls",
            "_model_module_version": "1.5.0",
            "_model_name": "DescriptionStyleModel",
            "_view_count": null,
            "_view_module": "@jupyter-widgets/base",
            "_view_module_version": "1.2.0",
            "_view_name": "StyleView",
            "description_width": ""
          }
        },
        "52394e0796d54688a68d5acbeafeb966": {
          "model_module": "@jupyter-widgets/controls",
          "model_module_version": "1.5.0",
          "model_name": "HTMLModel",
          "state": {
            "_dom_classes": [],
            "_model_module": "@jupyter-widgets/controls",
            "_model_module_version": "1.5.0",
            "_model_name": "HTMLModel",
            "_view_count": null,
            "_view_module": "@jupyter-widgets/controls",
            "_view_module_version": "1.5.0",
            "_view_name": "HTMLView",
            "description": "",
            "description_tooltip": null,
            "layout": "IPY_MODEL_d60c48f4bdec44fcb0cb067c3736e528",
            "placeholder": "​",
            "style": "IPY_MODEL_02bcd0f9c3e04ae3950fea11e0a4621c",
            "value": " 7066/7066 [34:58&lt;00:00,  1.70it/s]"
          }
        },
        "5294e9f4a156403c8f47d20dcbcce557": {
          "model_module": "@jupyter-widgets/controls",
          "model_module_version": "1.5.0",
          "model_name": "HTMLModel",
          "state": {
            "_dom_classes": [],
            "_model_module": "@jupyter-widgets/controls",
            "_model_module_version": "1.5.0",
            "_model_name": "HTMLModel",
            "_view_count": null,
            "_view_module": "@jupyter-widgets/controls",
            "_view_module_version": "1.5.0",
            "_view_name": "HTMLView",
            "description": "",
            "description_tooltip": null,
            "layout": "IPY_MODEL_01c422aaefc84d7683378bb592b5f206",
            "placeholder": "​",
            "style": "IPY_MODEL_3c8a9e19eac442208ebf317a32df6a5e",
            "value": "100%"
          }
        },
        "57b2f5d7b362430e878b57f0c78c5089": {
          "model_module": "@jupyter-widgets/base",
          "model_module_version": "1.2.0",
          "model_name": "LayoutModel",
          "state": {
            "_model_module": "@jupyter-widgets/base",
            "_model_module_version": "1.2.0",
            "_model_name": "LayoutModel",
            "_view_count": null,
            "_view_module": "@jupyter-widgets/base",
            "_view_module_version": "1.2.0",
            "_view_name": "LayoutView",
            "align_content": null,
            "align_items": null,
            "align_self": null,
            "border": null,
            "bottom": null,
            "display": null,
            "flex": null,
            "flex_flow": null,
            "grid_area": null,
            "grid_auto_columns": null,
            "grid_auto_flow": null,
            "grid_auto_rows": null,
            "grid_column": null,
            "grid_gap": null,
            "grid_row": null,
            "grid_template_areas": null,
            "grid_template_columns": null,
            "grid_template_rows": null,
            "height": null,
            "justify_content": null,
            "justify_items": null,
            "left": null,
            "margin": null,
            "max_height": null,
            "max_width": null,
            "min_height": null,
            "min_width": null,
            "object_fit": null,
            "object_position": null,
            "order": null,
            "overflow": null,
            "overflow_x": null,
            "overflow_y": null,
            "padding": null,
            "right": null,
            "top": null,
            "visibility": null,
            "width": null
          }
        },
        "6ac54986258a4ae3882468a1335fef2e": {
          "model_module": "@jupyter-widgets/controls",
          "model_module_version": "1.5.0",
          "model_name": "HBoxModel",
          "state": {
            "_dom_classes": [],
            "_model_module": "@jupyter-widgets/controls",
            "_model_module_version": "1.5.0",
            "_model_name": "HBoxModel",
            "_view_count": null,
            "_view_module": "@jupyter-widgets/controls",
            "_view_module_version": "1.5.0",
            "_view_name": "HBoxView",
            "box_style": "",
            "children": [
              "IPY_MODEL_371a842e8315480aae76d056ec15bf64",
              "IPY_MODEL_827e958e915948fe886d8c956f47c84e",
              "IPY_MODEL_958b4463d5da4a96ac9a95e50ea8a80a"
            ],
            "layout": "IPY_MODEL_06da601eecc14547bbf3db1126e80acc"
          }
        },
        "827e958e915948fe886d8c956f47c84e": {
          "model_module": "@jupyter-widgets/controls",
          "model_module_version": "1.5.0",
          "model_name": "FloatProgressModel",
          "state": {
            "_dom_classes": [],
            "_model_module": "@jupyter-widgets/controls",
            "_model_module_version": "1.5.0",
            "_model_name": "FloatProgressModel",
            "_view_count": null,
            "_view_module": "@jupyter-widgets/controls",
            "_view_module_version": "1.5.0",
            "_view_name": "ProgressView",
            "bar_style": "success",
            "description": "",
            "description_tooltip": null,
            "layout": "IPY_MODEL_ee5cf23e29aa4ca882ecf7b378667ec5",
            "max": 4319,
            "min": 0,
            "orientation": "horizontal",
            "style": "IPY_MODEL_88142d8837f94488816633bd82a7052e",
            "value": 4319
          }
        },
        "88142d8837f94488816633bd82a7052e": {
          "model_module": "@jupyter-widgets/controls",
          "model_module_version": "1.5.0",
          "model_name": "ProgressStyleModel",
          "state": {
            "_model_module": "@jupyter-widgets/controls",
            "_model_module_version": "1.5.0",
            "_model_name": "ProgressStyleModel",
            "_view_count": null,
            "_view_module": "@jupyter-widgets/base",
            "_view_module_version": "1.2.0",
            "_view_name": "StyleView",
            "bar_color": null,
            "description_width": ""
          }
        },
        "958b4463d5da4a96ac9a95e50ea8a80a": {
          "model_module": "@jupyter-widgets/controls",
          "model_module_version": "1.5.0",
          "model_name": "HTMLModel",
          "state": {
            "_dom_classes": [],
            "_model_module": "@jupyter-widgets/controls",
            "_model_module_version": "1.5.0",
            "_model_name": "HTMLModel",
            "_view_count": null,
            "_view_module": "@jupyter-widgets/controls",
            "_view_module_version": "1.5.0",
            "_view_name": "HTMLView",
            "description": "",
            "description_tooltip": null,
            "layout": "IPY_MODEL_dcac7a6b60124d7da31559c3fcbd0228",
            "placeholder": "​",
            "style": "IPY_MODEL_3fa24e3e60f34a74911cc6a1faedd4e7",
            "value": " 4319/4319 [00:21&lt;00:00, 246.19it/s]"
          }
        },
        "ad6fb5abe305456592b4af461d254953": {
          "model_module": "@jupyter-widgets/base",
          "model_module_version": "1.2.0",
          "model_name": "LayoutModel",
          "state": {
            "_model_module": "@jupyter-widgets/base",
            "_model_module_version": "1.2.0",
            "_model_name": "LayoutModel",
            "_view_count": null,
            "_view_module": "@jupyter-widgets/base",
            "_view_module_version": "1.2.0",
            "_view_name": "LayoutView",
            "align_content": null,
            "align_items": null,
            "align_self": null,
            "border": null,
            "bottom": null,
            "display": null,
            "flex": null,
            "flex_flow": null,
            "grid_area": null,
            "grid_auto_columns": null,
            "grid_auto_flow": null,
            "grid_auto_rows": null,
            "grid_column": null,
            "grid_gap": null,
            "grid_row": null,
            "grid_template_areas": null,
            "grid_template_columns": null,
            "grid_template_rows": null,
            "height": null,
            "justify_content": null,
            "justify_items": null,
            "left": null,
            "margin": null,
            "max_height": null,
            "max_width": null,
            "min_height": null,
            "min_width": null,
            "object_fit": null,
            "object_position": null,
            "order": null,
            "overflow": null,
            "overflow_x": null,
            "overflow_y": null,
            "padding": null,
            "right": null,
            "top": null,
            "visibility": null,
            "width": null
          }
        },
        "b0d9182bb5484e418ba3d1474e269248": {
          "model_module": "@jupyter-widgets/controls",
          "model_module_version": "1.5.0",
          "model_name": "HBoxModel",
          "state": {
            "_dom_classes": [],
            "_model_module": "@jupyter-widgets/controls",
            "_model_module_version": "1.5.0",
            "_model_name": "HBoxModel",
            "_view_count": null,
            "_view_module": "@jupyter-widgets/controls",
            "_view_module_version": "1.5.0",
            "_view_name": "HBoxView",
            "box_style": "",
            "children": [
              "IPY_MODEL_37fd1c7fcef1494286c7b3e68268b67a",
              "IPY_MODEL_216b77edafdc4d48a452923fa7262af9",
              "IPY_MODEL_52394e0796d54688a68d5acbeafeb966"
            ],
            "layout": "IPY_MODEL_ff0341198d1d4750b2ccaec22bed4ae7"
          }
        },
        "b11ff65f6cbb4bb99efb6de2c19d87b4": {
          "model_module": "@jupyter-widgets/controls",
          "model_module_version": "1.5.0",
          "model_name": "HBoxModel",
          "state": {
            "_dom_classes": [],
            "_model_module": "@jupyter-widgets/controls",
            "_model_module_version": "1.5.0",
            "_model_name": "HBoxModel",
            "_view_count": null,
            "_view_module": "@jupyter-widgets/controls",
            "_view_module_version": "1.5.0",
            "_view_name": "HBoxView",
            "box_style": "",
            "children": [
              "IPY_MODEL_5294e9f4a156403c8f47d20dcbcce557",
              "IPY_MODEL_37e88acfec99474d90ffe288f2c321db",
              "IPY_MODEL_e434202b2fc44937899761c0fdcc6d32"
            ],
            "layout": "IPY_MODEL_57b2f5d7b362430e878b57f0c78c5089"
          }
        },
        "bddac2bdfc0e4ea0826bf6eec9da75c1": {
          "model_module": "@jupyter-widgets/base",
          "model_module_version": "1.2.0",
          "model_name": "LayoutModel",
          "state": {
            "_model_module": "@jupyter-widgets/base",
            "_model_module_version": "1.2.0",
            "_model_name": "LayoutModel",
            "_view_count": null,
            "_view_module": "@jupyter-widgets/base",
            "_view_module_version": "1.2.0",
            "_view_name": "LayoutView",
            "align_content": null,
            "align_items": null,
            "align_self": null,
            "border": null,
            "bottom": null,
            "display": null,
            "flex": null,
            "flex_flow": null,
            "grid_area": null,
            "grid_auto_columns": null,
            "grid_auto_flow": null,
            "grid_auto_rows": null,
            "grid_column": null,
            "grid_gap": null,
            "grid_row": null,
            "grid_template_areas": null,
            "grid_template_columns": null,
            "grid_template_rows": null,
            "height": null,
            "justify_content": null,
            "justify_items": null,
            "left": null,
            "margin": null,
            "max_height": null,
            "max_width": null,
            "min_height": null,
            "min_width": null,
            "object_fit": null,
            "object_position": null,
            "order": null,
            "overflow": null,
            "overflow_x": null,
            "overflow_y": null,
            "padding": null,
            "right": null,
            "top": null,
            "visibility": null,
            "width": null
          }
        },
        "bfca8b86f5284280bb4b6d0ecfefafd3": {
          "model_module": "@jupyter-widgets/controls",
          "model_module_version": "1.5.0",
          "model_name": "ProgressStyleModel",
          "state": {
            "_model_module": "@jupyter-widgets/controls",
            "_model_module_version": "1.5.0",
            "_model_name": "ProgressStyleModel",
            "_view_count": null,
            "_view_module": "@jupyter-widgets/base",
            "_view_module_version": "1.2.0",
            "_view_name": "StyleView",
            "bar_color": null,
            "description_width": ""
          }
        },
        "c49d46383a4e47b5af20bfacb60235a8": {
          "model_module": "@jupyter-widgets/controls",
          "model_module_version": "1.5.0",
          "model_name": "ProgressStyleModel",
          "state": {
            "_model_module": "@jupyter-widgets/controls",
            "_model_module_version": "1.5.0",
            "_model_name": "ProgressStyleModel",
            "_view_count": null,
            "_view_module": "@jupyter-widgets/base",
            "_view_module_version": "1.2.0",
            "_view_name": "StyleView",
            "bar_color": null,
            "description_width": ""
          }
        },
        "d60c48f4bdec44fcb0cb067c3736e528": {
          "model_module": "@jupyter-widgets/base",
          "model_module_version": "1.2.0",
          "model_name": "LayoutModel",
          "state": {
            "_model_module": "@jupyter-widgets/base",
            "_model_module_version": "1.2.0",
            "_model_name": "LayoutModel",
            "_view_count": null,
            "_view_module": "@jupyter-widgets/base",
            "_view_module_version": "1.2.0",
            "_view_name": "LayoutView",
            "align_content": null,
            "align_items": null,
            "align_self": null,
            "border": null,
            "bottom": null,
            "display": null,
            "flex": null,
            "flex_flow": null,
            "grid_area": null,
            "grid_auto_columns": null,
            "grid_auto_flow": null,
            "grid_auto_rows": null,
            "grid_column": null,
            "grid_gap": null,
            "grid_row": null,
            "grid_template_areas": null,
            "grid_template_columns": null,
            "grid_template_rows": null,
            "height": null,
            "justify_content": null,
            "justify_items": null,
            "left": null,
            "margin": null,
            "max_height": null,
            "max_width": null,
            "min_height": null,
            "min_width": null,
            "object_fit": null,
            "object_position": null,
            "order": null,
            "overflow": null,
            "overflow_x": null,
            "overflow_y": null,
            "padding": null,
            "right": null,
            "top": null,
            "visibility": null,
            "width": null
          }
        },
        "dcac7a6b60124d7da31559c3fcbd0228": {
          "model_module": "@jupyter-widgets/base",
          "model_module_version": "1.2.0",
          "model_name": "LayoutModel",
          "state": {
            "_model_module": "@jupyter-widgets/base",
            "_model_module_version": "1.2.0",
            "_model_name": "LayoutModel",
            "_view_count": null,
            "_view_module": "@jupyter-widgets/base",
            "_view_module_version": "1.2.0",
            "_view_name": "LayoutView",
            "align_content": null,
            "align_items": null,
            "align_self": null,
            "border": null,
            "bottom": null,
            "display": null,
            "flex": null,
            "flex_flow": null,
            "grid_area": null,
            "grid_auto_columns": null,
            "grid_auto_flow": null,
            "grid_auto_rows": null,
            "grid_column": null,
            "grid_gap": null,
            "grid_row": null,
            "grid_template_areas": null,
            "grid_template_columns": null,
            "grid_template_rows": null,
            "height": null,
            "justify_content": null,
            "justify_items": null,
            "left": null,
            "margin": null,
            "max_height": null,
            "max_width": null,
            "min_height": null,
            "min_width": null,
            "object_fit": null,
            "object_position": null,
            "order": null,
            "overflow": null,
            "overflow_x": null,
            "overflow_y": null,
            "padding": null,
            "right": null,
            "top": null,
            "visibility": null,
            "width": null
          }
        },
        "e434202b2fc44937899761c0fdcc6d32": {
          "model_module": "@jupyter-widgets/controls",
          "model_module_version": "1.5.0",
          "model_name": "HTMLModel",
          "state": {
            "_dom_classes": [],
            "_model_module": "@jupyter-widgets/controls",
            "_model_module_version": "1.5.0",
            "_model_name": "HTMLModel",
            "_view_count": null,
            "_view_module": "@jupyter-widgets/controls",
            "_view_module_version": "1.5.0",
            "_view_name": "HTMLView",
            "description": "",
            "description_tooltip": null,
            "layout": "IPY_MODEL_0baa964c378f44ecb016d279cf687ff8",
            "placeholder": "​",
            "style": "IPY_MODEL_246558ae0ce5404e95677a27abc9d373",
            "value": " 24502/24502 [01:47&lt;00:00, 244.39it/s]"
          }
        },
        "ee5cf23e29aa4ca882ecf7b378667ec5": {
          "model_module": "@jupyter-widgets/base",
          "model_module_version": "1.2.0",
          "model_name": "LayoutModel",
          "state": {
            "_model_module": "@jupyter-widgets/base",
            "_model_module_version": "1.2.0",
            "_model_name": "LayoutModel",
            "_view_count": null,
            "_view_module": "@jupyter-widgets/base",
            "_view_module_version": "1.2.0",
            "_view_name": "LayoutView",
            "align_content": null,
            "align_items": null,
            "align_self": null,
            "border": null,
            "bottom": null,
            "display": null,
            "flex": null,
            "flex_flow": null,
            "grid_area": null,
            "grid_auto_columns": null,
            "grid_auto_flow": null,
            "grid_auto_rows": null,
            "grid_column": null,
            "grid_gap": null,
            "grid_row": null,
            "grid_template_areas": null,
            "grid_template_columns": null,
            "grid_template_rows": null,
            "height": null,
            "justify_content": null,
            "justify_items": null,
            "left": null,
            "margin": null,
            "max_height": null,
            "max_width": null,
            "min_height": null,
            "min_width": null,
            "object_fit": null,
            "object_position": null,
            "order": null,
            "overflow": null,
            "overflow_x": null,
            "overflow_y": null,
            "padding": null,
            "right": null,
            "top": null,
            "visibility": null,
            "width": null
          }
        },
        "ff0341198d1d4750b2ccaec22bed4ae7": {
          "model_module": "@jupyter-widgets/base",
          "model_module_version": "1.2.0",
          "model_name": "LayoutModel",
          "state": {
            "_model_module": "@jupyter-widgets/base",
            "_model_module_version": "1.2.0",
            "_model_name": "LayoutModel",
            "_view_count": null,
            "_view_module": "@jupyter-widgets/base",
            "_view_module_version": "1.2.0",
            "_view_name": "LayoutView",
            "align_content": null,
            "align_items": null,
            "align_self": null,
            "border": null,
            "bottom": null,
            "display": null,
            "flex": null,
            "flex_flow": null,
            "grid_area": null,
            "grid_auto_columns": null,
            "grid_auto_flow": null,
            "grid_auto_rows": null,
            "grid_column": null,
            "grid_gap": null,
            "grid_row": null,
            "grid_template_areas": null,
            "grid_template_columns": null,
            "grid_template_rows": null,
            "height": null,
            "justify_content": null,
            "justify_items": null,
            "left": null,
            "margin": null,
            "max_height": null,
            "max_width": null,
            "min_height": null,
            "min_width": null,
            "object_fit": null,
            "object_position": null,
            "order": null,
            "overflow": null,
            "overflow_x": null,
            "overflow_y": null,
            "padding": null,
            "right": null,
            "top": null,
            "visibility": null,
            "width": null
          }
        }
      }
    }
  },
  "nbformat": 4,
  "nbformat_minor": 0
}
